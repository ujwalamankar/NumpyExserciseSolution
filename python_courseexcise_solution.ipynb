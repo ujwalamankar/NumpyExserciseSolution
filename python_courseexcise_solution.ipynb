{
 "cells": [
  {
   "cell_type": "markdown",
   "id": "3a8d8830",
   "metadata": {},
   "source": [
    "# what is 7 to the power of 4??"
   ]
  },
  {
   "cell_type": "code",
   "execution_count": 5,
   "id": "34ee9b2a",
   "metadata": {},
   "outputs": [
    {
     "data": {
      "text/plain": [
       "2401"
      ]
     },
     "execution_count": 5,
     "metadata": {},
     "output_type": "execute_result"
    }
   ],
   "source": [
    "7**4"
   ]
  },
  {
   "cell_type": "markdown",
   "id": "453b9371",
   "metadata": {},
   "source": [
    "# split the string"
   ]
  },
  {
   "cell_type": "code",
   "execution_count": 7,
   "id": "08855f27",
   "metadata": {},
   "outputs": [],
   "source": [
    "s='hi there yogesh!'"
   ]
  },
  {
   "cell_type": "code",
   "execution_count": 8,
   "id": "f3188bf1",
   "metadata": {},
   "outputs": [
    {
     "data": {
      "text/plain": [
       "['hi', 'there', 'yogesh!']"
      ]
     },
     "execution_count": 8,
     "metadata": {},
     "output_type": "execute_result"
    }
   ],
   "source": [
    "s.split()"
   ]
  },
  {
   "cell_type": "markdown",
   "id": "bec0a26b",
   "metadata": {},
   "source": [
    "# given the variable:p=\"earth\" d=12742 using .farmat()print the string"
   ]
  },
  {
   "cell_type": "code",
   "execution_count": 15,
   "id": "169373d8",
   "metadata": {},
   "outputs": [],
   "source": [
    "a='The diameter of {p} is {d} kilometers'.format(p='earth',d=12742)"
   ]
  },
  {
   "cell_type": "code",
   "execution_count": 16,
   "id": "f7dd6d37",
   "metadata": {},
   "outputs": [
    {
     "data": {
      "text/plain": [
       "'The diameter of earth is 12742 kilometers'"
      ]
     },
     "execution_count": 16,
     "metadata": {},
     "output_type": "execute_result"
    }
   ],
   "source": [
    "a"
   ]
  },
  {
   "cell_type": "markdown",
   "id": "77908bcc",
   "metadata": {},
   "source": [
    "# from below list grob 'hello'word"
   ]
  },
  {
   "cell_type": "code",
   "execution_count": 17,
   "id": "1fc05321",
   "metadata": {},
   "outputs": [],
   "source": [
    "lst = [1,2,[3,4],[5,[100,200,['hello']],23,11],1,7]"
   ]
  },
  {
   "cell_type": "code",
   "execution_count": 25,
   "id": "b84aff9f",
   "metadata": {},
   "outputs": [
    {
     "data": {
      "text/plain": [
       "['hello']"
      ]
     },
     "execution_count": 25,
     "metadata": {},
     "output_type": "execute_result"
    }
   ],
   "source": [
    "lst[3][1][2]"
   ]
  },
  {
   "cell_type": "markdown",
   "id": "b84032b2",
   "metadata": {},
   "source": [
    "# ** Given this nested dictionary grab the word \"hello\". Be prepared, this will be annoying/tricky **"
   ]
  },
  {
   "cell_type": "code",
   "execution_count": 26,
   "id": "9ac79199",
   "metadata": {},
   "outputs": [],
   "source": [
    "d = {'k1':[1,2,3,{'tricky':['oh','man','inception',{'target':[1,2,3,'hello']}]}]}"
   ]
  },
  {
   "cell_type": "code",
   "execution_count": 33,
   "id": "3b83c546",
   "metadata": {},
   "outputs": [
    {
     "data": {
      "text/plain": [
       "'hello'"
      ]
     },
     "execution_count": 33,
     "metadata": {},
     "output_type": "execute_result"
    }
   ],
   "source": [
    "d['k1'][3]['tricky'][3]['target'][3]"
   ]
  },
  {
   "cell_type": "markdown",
   "id": "9bdbcf80",
   "metadata": {},
   "source": [
    "# ** What is the main difference between a tuple and a list? **"
   ]
  },
  {
   "cell_type": "code",
   "execution_count": 36,
   "id": "840feb31",
   "metadata": {},
   "outputs": [],
   "source": [
    "#List:-List is always enclose in square brackets and list is mutable\n",
    "#Tuple:-Tuple is always enclose in parenthesis and it is immutable"
   ]
  },
  {
   "cell_type": "markdown",
   "id": "067495c1",
   "metadata": {},
   "source": [
    "# ** Create a function that grabs the email website domain from a string in the form: **"
   ]
  },
  {
   "cell_type": "code",
   "execution_count": null,
   "id": "81a0d903",
   "metadata": {},
   "outputs": [],
   "source": [
    "emailid=input(\"enter the email id:\")\n",
    "def find_emailid():\n",
    "    return e:e.split(\"@\",[1])"
   ]
  },
  {
   "cell_type": "code",
   "execution_count": null,
   "id": "947dc778",
   "metadata": {},
   "outputs": [],
   "source": [
    "find_emailid()"
   ]
  },
  {
   "cell_type": "code",
   "execution_count": null,
   "id": "d368cbe3",
   "metadata": {},
   "outputs": [],
   "source": []
  },
  {
   "cell_type": "markdown",
   "id": "4695fb65",
   "metadata": {},
   "source": [
    "# ** Create a basic function that returns True if the word 'dog' is contained in the input string. Don't worry about edge cases like a punctuation being attached to the word dog, but do account for capitalization. **"
   ]
  },
  {
   "cell_type": "code",
   "execution_count": 46,
   "id": "909d1015",
   "metadata": {},
   "outputs": [],
   "source": [
    "string=\"there is dog and that dog is very dengerous so be alert!\""
   ]
  },
  {
   "cell_type": "code",
   "execution_count": 47,
   "id": "976298dc",
   "metadata": {},
   "outputs": [
    {
     "data": {
      "text/plain": [
       "'there is dog and that dog is very dengerous so be alert!'"
      ]
     },
     "execution_count": 47,
     "metadata": {},
     "output_type": "execute_result"
    }
   ],
   "source": [
    "string"
   ]
  },
  {
   "cell_type": "code",
   "execution_count": 50,
   "id": "e905ec0f",
   "metadata": {},
   "outputs": [
    {
     "data": {
      "text/plain": [
       "2"
      ]
     },
     "execution_count": 50,
     "metadata": {},
     "output_type": "execute_result"
    }
   ],
   "source": [
    "string.count('dog')"
   ]
  },
  {
   "cell_type": "code",
   "execution_count": 52,
   "id": "177513a3",
   "metadata": {},
   "outputs": [],
   "source": [
    "def find_dog(string):\n",
    "    if 'dog' in string:\n",
    "        print(\"True\")"
   ]
  },
  {
   "cell_type": "code",
   "execution_count": 53,
   "id": "1b4f899c",
   "metadata": {},
   "outputs": [
    {
     "name": "stdout",
     "output_type": "stream",
     "text": [
      "True\n"
     ]
    }
   ],
   "source": [
    "find_dog(string)"
   ]
  },
  {
   "cell_type": "markdown",
   "id": "029b1fc9",
   "metadata": {},
   "source": [
    "# ** Use lambda expressions and the filter() function to filter out words from a list that don't start with the letter 's'. For example:**\n",
    "\n",
    "    seq = ['soup','dog','salad','cat','great']\n"
   ]
  },
  {
   "cell_type": "code",
   "execution_count": 38,
   "id": "fca346b2",
   "metadata": {},
   "outputs": [],
   "source": [
    "seq=['soup','dog','salad','cat','great']"
   ]
  },
  {
   "cell_type": "code",
   "execution_count": 43,
   "id": "084b0271",
   "metadata": {},
   "outputs": [
    {
     "data": {
      "text/plain": [
       "['dog', 'cat', 'great']"
      ]
     },
     "execution_count": 43,
     "metadata": {},
     "output_type": "execute_result"
    }
   ],
   "source": [
    "list(filter(lambda l:l[0]!='s',seq))"
   ]
  },
  {
   "cell_type": "markdown",
   "id": "f58d608a",
   "metadata": {},
   "source": [
    "# **You are driving a little too fast, and a police officer stops you. Write a function\n",
    "  to return one of 3 possible results: \"No ticket\", \"Small ticket\", or \"Big Ticket\". \n",
    "  If your speed is 60 or less, the result is \"No Ticket\". If speed is between 61 \n",
    "  and 80 inclusive, the result is \"Small Ticket\". If speed is 81 or more, the result is \"Big    Ticket\". Unless it is your birthday (encoded as a boolean value in the parameters of the function) -- on your birthday, your speed can be 5 higher in all \n",
    "  cases. **"
   ]
  },
  {
   "cell_type": "code",
   "execution_count": 56,
   "id": "8320af3b",
   "metadata": {},
   "outputs": [],
   "source": [
    "spd=[10,20,15,35,60,89,70,67]"
   ]
  },
  {
   "cell_type": "code",
   "execution_count": 57,
   "id": "3cef527a",
   "metadata": {},
   "outputs": [
    {
     "data": {
      "text/plain": [
       "list"
      ]
     },
     "execution_count": 57,
     "metadata": {},
     "output_type": "execute_result"
    }
   ],
   "source": [
    "type(spd)"
   ]
  },
  {
   "cell_type": "code",
   "execution_count": 67,
   "id": "625a4515",
   "metadata": {},
   "outputs": [],
   "source": [
    "def find_speed(speed,birthday):\n",
    "    if birthday: \n",
    "        speed2=speed-5\n",
    "    else:\n",
    "        speed2=speed\n",
    "    if speed>=60:\n",
    "        print(\"no ticket\")\n",
    "    elif speed2<60 & speed2>80:\n",
    "        print(\"small ticket\")\n",
    "    else:\n",
    "        print(\"big ticket\")"
   ]
  },
  {
   "cell_type": "code",
   "execution_count": 68,
   "id": "1fc52dc3",
   "metadata": {},
   "outputs": [
    {
     "name": "stdout",
     "output_type": "stream",
     "text": [
      "no ticket\n"
     ]
    }
   ],
   "source": [
    "find_speed(79,True)"
   ]
  },
  {
   "cell_type": "code",
   "execution_count": 69,
   "id": "888463bb",
   "metadata": {},
   "outputs": [
    {
     "name": "stdout",
     "output_type": "stream",
     "text": [
      "no ticket\n"
     ]
    }
   ],
   "source": [
    "find_speed(60,False)"
   ]
  },
  {
   "cell_type": "code",
   "execution_count": null,
   "id": "e6c8a8ea",
   "metadata": {},
   "outputs": [],
   "source": []
  }
 ],
 "metadata": {
  "kernelspec": {
   "display_name": "Python 3 (ipykernel)",
   "language": "python",
   "name": "python3"
  },
  "language_info": {
   "codemirror_mode": {
    "name": "ipython",
    "version": 3
   },
   "file_extension": ".py",
   "mimetype": "text/x-python",
   "name": "python",
   "nbconvert_exporter": "python",
   "pygments_lexer": "ipython3",
   "version": "3.9.7"
  }
 },
 "nbformat": 4,
 "nbformat_minor": 5
}
